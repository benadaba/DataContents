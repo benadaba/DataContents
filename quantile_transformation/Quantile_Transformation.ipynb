{
  "nbformat": 4,
  "nbformat_minor": 0,
  "metadata": {
    "colab": {
      "name": "Quantile Transformation.ipynb",
      "provenance": []
    },
    "kernelspec": {
      "name": "python3",
      "display_name": "Python 3"
    },
    "language_info": {
      "name": "python"
    }
  },
  "cells": [
    {
      "cell_type": "markdown",
      "source": [
        "When doing non-linear scaling of the features in your data, you can make use of two main modules: the **quantile transforms** and **power transforms**.   \n",
        "\n",
        "Both quantile and power transforms are based on monotonic transformations of the features and thus preserve the rank of the values along each feature.\n",
        "\n",
        "The transformation can be applied to each numeric input variable in the training dataset and then provided as input to a machine learning model to learn a predictive modeling task.\n",
        "\n",
        "Let's look out how features are transformed using the "
      ],
      "metadata": {
        "id": "JeSLZgOP2Set"
      }
    },
    {
      "cell_type": "markdown",
      "source": [
        "**Import libraries, load dataset and plot histogram of dataset BEFORE quantitle transform**"
      ],
      "metadata": {
        "id": "0jEBg5gB1YWY"
      }
    },
    {
      "cell_type": "code",
      "execution_count": 15,
      "metadata": {
        "colab": {
          "base_uri": "https://localhost:8080/",
          "height": 281
        },
        "id": "dpsnQdJFvrHI",
        "outputId": "063091d2-66e7-4833-be98-84cfbccfdcf4"
      },
      "outputs": [
        {
          "output_type": "display_data",
          "data": {
            "image/png": "[encoded data removed]",
            "text/plain": [
              "<Figure size 432x288 with 4 Axes>"
            ]
          },
          "metadata": {
            "needs_background": "light"
          }
        }
      ],
      "source": [
        "from sklearn.datasets import load_iris\n",
        "from sklearn.model_selection import train_test_split\n",
        "from sklearn import preprocessing\n",
        "import numpy as np\n",
        "import pandas as pd\n",
        "# load iris dataset\n",
        "X, y = load_iris(return_X_y=True)\n",
        "\n",
        "# split data into train and test sets\n",
        "X_train, X_test, y_train, y_test = train_test_split(X, y, random_state=0)\n",
        "\n",
        "# convert array into dataframe and plot the histogram\n",
        "pd.DataFrame.from_dict(X_train).hist();"
      ]
    },
    {
      "cell_type": "markdown",
      "source": [
        "**dataset is transformed to a normally distributed one AFTER quantitle transform**"
      ],
      "metadata": {
        "id": "ZrnbxpJk1mLj"
      }
    },
    {
      "cell_type": "code",
      "source": [
        "quantile_transformer = preprocessing.QuantileTransformer(random_state=0, output_distribution='normal')\n",
        "X_train_trans = quantile_transformer.fit_transform(X_train)\n",
        "pd.DataFrame.from_dict(X_train_trans).hist();"
      ],
      "metadata": {
        "colab": {
          "base_uri": "https://localhost:8080/",
          "height": 316
        },
        "id": "imFyxtj7wNde",
        "outputId": "b89c6b42-fcbe-42ca-b93b-3873c801faf8"
      },
      "execution_count": 14,
      "outputs": [
        {
          "output_type": "stream",
          "name": "stderr",
          "text": [
            "/usr/local/lib/python3.7/dist-packages/sklearn/preprocessing/_data.py:2593: UserWarning: n_quantiles (1000) is greater than the total number of samples (112). n_quantiles is set to n_samples.\n",
            "  \"n_samples.\" % (self.n_quantiles, n_samples)\n"
          ]
        },
        {
          "output_type": "display_data",
          "data": {
            "image/png": "[encoded data removed]",
            "text/plain": [
              "<Figure size 432x288 with 4 Axes>"
            ]
          },
          "metadata": {
            "needs_background": "light"
          }
        }
      ]
    }
  ]
}